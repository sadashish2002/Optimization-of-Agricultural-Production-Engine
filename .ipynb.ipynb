{
 "cells": [
  {
   "cell_type": "markdown",
   "id": "d0b7428d",
   "metadata": {},
   "source": [
    "# Optimization Agricultural Production by SADASHISH KUMAR BHOKTA"
   ]
  },
  {
   "cell_type": "code",
   "execution_count": 66,
   "id": "ecc14ae0",
   "metadata": {},
   "outputs": [],
   "source": [
    "#for manipulating\n",
    "import pandas as pd\n",
    "import numpy as np\n",
    "#for Data visualization\n",
    "import matplotlib.pyplot as plt\n",
    "import seaborn as sns\n",
    "#for interactivity\n",
    "from ipywidgets import interact"
   ]
  },
  {
   "cell_type": "code",
   "execution_count": 51,
   "id": "5d377e4c",
   "metadata": {},
   "outputs": [],
   "source": [
    "#Lets read my data sets\n",
    "data = pd.read_csv('Crop_recommendation.csv')"
   ]
  },
  {
   "cell_type": "code",
   "execution_count": 52,
   "id": "f367488f",
   "metadata": {},
   "outputs": [
    {
     "name": "stdout",
     "output_type": "stream",
     "text": [
      "shape of the Dataset (2200, 8)\n"
     ]
    }
   ],
   "source": [
    "print(\"shape of the Dataset\",data.shape)"
   ]
  },
  {
   "cell_type": "code",
   "execution_count": 53,
   "id": "22caf17c",
   "metadata": {},
   "outputs": [
    {
     "data": {
      "text/html": [
       "<div>\n",
       "<style scoped>\n",
       "    .dataframe tbody tr th:only-of-type {\n",
       "        vertical-align: middle;\n",
       "    }\n",
       "\n",
       "    .dataframe tbody tr th {\n",
       "        vertical-align: top;\n",
       "    }\n",
       "\n",
       "    .dataframe thead th {\n",
       "        text-align: right;\n",
       "    }\n",
       "</style>\n",
       "<table border=\"1\" class=\"dataframe\">\n",
       "  <thead>\n",
       "    <tr style=\"text-align: right;\">\n",
       "      <th></th>\n",
       "      <th>N</th>\n",
       "      <th>P</th>\n",
       "      <th>K</th>\n",
       "      <th>temperature</th>\n",
       "      <th>humidity</th>\n",
       "      <th>ph</th>\n",
       "      <th>rainfall</th>\n",
       "      <th>label</th>\n",
       "    </tr>\n",
       "  </thead>\n",
       "  <tbody>\n",
       "    <tr>\n",
       "      <th>0</th>\n",
       "      <td>90</td>\n",
       "      <td>42</td>\n",
       "      <td>43</td>\n",
       "      <td>20.879744</td>\n",
       "      <td>82.002744</td>\n",
       "      <td>6.502985</td>\n",
       "      <td>202.935536</td>\n",
       "      <td>rice</td>\n",
       "    </tr>\n",
       "    <tr>\n",
       "      <th>1</th>\n",
       "      <td>85</td>\n",
       "      <td>58</td>\n",
       "      <td>41</td>\n",
       "      <td>21.770462</td>\n",
       "      <td>80.319644</td>\n",
       "      <td>7.038096</td>\n",
       "      <td>226.655537</td>\n",
       "      <td>rice</td>\n",
       "    </tr>\n",
       "    <tr>\n",
       "      <th>2</th>\n",
       "      <td>60</td>\n",
       "      <td>55</td>\n",
       "      <td>44</td>\n",
       "      <td>23.004459</td>\n",
       "      <td>82.320763</td>\n",
       "      <td>7.840207</td>\n",
       "      <td>263.964248</td>\n",
       "      <td>rice</td>\n",
       "    </tr>\n",
       "    <tr>\n",
       "      <th>3</th>\n",
       "      <td>74</td>\n",
       "      <td>35</td>\n",
       "      <td>40</td>\n",
       "      <td>26.491096</td>\n",
       "      <td>80.158363</td>\n",
       "      <td>6.980401</td>\n",
       "      <td>242.864034</td>\n",
       "      <td>rice</td>\n",
       "    </tr>\n",
       "    <tr>\n",
       "      <th>4</th>\n",
       "      <td>78</td>\n",
       "      <td>42</td>\n",
       "      <td>42</td>\n",
       "      <td>20.130175</td>\n",
       "      <td>81.604873</td>\n",
       "      <td>7.628473</td>\n",
       "      <td>262.717340</td>\n",
       "      <td>rice</td>\n",
       "    </tr>\n",
       "    <tr>\n",
       "      <th>5</th>\n",
       "      <td>69</td>\n",
       "      <td>37</td>\n",
       "      <td>42</td>\n",
       "      <td>23.058049</td>\n",
       "      <td>83.370118</td>\n",
       "      <td>7.073454</td>\n",
       "      <td>251.055000</td>\n",
       "      <td>rice</td>\n",
       "    </tr>\n",
       "    <tr>\n",
       "      <th>6</th>\n",
       "      <td>69</td>\n",
       "      <td>55</td>\n",
       "      <td>38</td>\n",
       "      <td>22.708838</td>\n",
       "      <td>82.639414</td>\n",
       "      <td>5.700806</td>\n",
       "      <td>271.324860</td>\n",
       "      <td>rice</td>\n",
       "    </tr>\n",
       "    <tr>\n",
       "      <th>7</th>\n",
       "      <td>94</td>\n",
       "      <td>53</td>\n",
       "      <td>40</td>\n",
       "      <td>20.277744</td>\n",
       "      <td>82.894086</td>\n",
       "      <td>5.718627</td>\n",
       "      <td>241.974195</td>\n",
       "      <td>rice</td>\n",
       "    </tr>\n",
       "    <tr>\n",
       "      <th>8</th>\n",
       "      <td>89</td>\n",
       "      <td>54</td>\n",
       "      <td>38</td>\n",
       "      <td>24.515881</td>\n",
       "      <td>83.535216</td>\n",
       "      <td>6.685346</td>\n",
       "      <td>230.446236</td>\n",
       "      <td>rice</td>\n",
       "    </tr>\n",
       "    <tr>\n",
       "      <th>9</th>\n",
       "      <td>68</td>\n",
       "      <td>58</td>\n",
       "      <td>38</td>\n",
       "      <td>23.223974</td>\n",
       "      <td>83.033227</td>\n",
       "      <td>6.336254</td>\n",
       "      <td>221.209196</td>\n",
       "      <td>rice</td>\n",
       "    </tr>\n",
       "  </tbody>\n",
       "</table>\n",
       "</div>"
      ],
      "text/plain": [
       "    N   P   K  temperature   humidity        ph    rainfall label\n",
       "0  90  42  43    20.879744  82.002744  6.502985  202.935536  rice\n",
       "1  85  58  41    21.770462  80.319644  7.038096  226.655537  rice\n",
       "2  60  55  44    23.004459  82.320763  7.840207  263.964248  rice\n",
       "3  74  35  40    26.491096  80.158363  6.980401  242.864034  rice\n",
       "4  78  42  42    20.130175  81.604873  7.628473  262.717340  rice\n",
       "5  69  37  42    23.058049  83.370118  7.073454  251.055000  rice\n",
       "6  69  55  38    22.708838  82.639414  5.700806  271.324860  rice\n",
       "7  94  53  40    20.277744  82.894086  5.718627  241.974195  rice\n",
       "8  89  54  38    24.515881  83.535216  6.685346  230.446236  rice\n",
       "9  68  58  38    23.223974  83.033227  6.336254  221.209196  rice"
      ]
     },
     "execution_count": 53,
     "metadata": {},
     "output_type": "execute_result"
    }
   ],
   "source": [
    "#lets check the content of the dataset\n",
    "data.head(10)"
   ]
  },
  {
   "cell_type": "markdown",
   "id": "80db5b46",
   "metadata": {},
   "source": [
    "# Lets check if there is any missing value present in dataset"
   ]
  },
  {
   "cell_type": "code",
   "execution_count": 54,
   "id": "7469e031",
   "metadata": {},
   "outputs": [
    {
     "data": {
      "text/plain": [
       "N              0\n",
       "P              0\n",
       "K              0\n",
       "temperature    0\n",
       "humidity       0\n",
       "ph             0\n",
       "rainfall       0\n",
       "label          0\n",
       "dtype: int64"
      ]
     },
     "execution_count": 54,
     "metadata": {},
     "output_type": "execute_result"
    }
   ],
   "source": [
    "#Lets check if there is any missing value present in dataset\n",
    "data.isnull().sum()"
   ]
  },
  {
   "cell_type": "markdown",
   "id": "d8b423d5",
   "metadata": {},
   "source": [
    "1. Fill -NA function is used to replace missing values with statistical values such as Mean , median , Mode\n",
    "2. NA means not Available\n",
    "3. Pandas habe functions like fill-NA to treat missing values"
   ]
  },
  {
   "cell_type": "markdown",
   "id": "9da2f50c",
   "metadata": {},
   "source": [
    "# check the crop present in the Dataset"
   ]
  },
  {
   "cell_type": "code",
   "execution_count": 58,
   "id": "b57f893c",
   "metadata": {},
   "outputs": [
    {
     "data": {
      "text/plain": [
       "rice           100\n",
       "maize          100\n",
       "jute           100\n",
       "cotton         100\n",
       "coconut        100\n",
       "papaya         100\n",
       "orange         100\n",
       "apple          100\n",
       "muskmelon      100\n",
       "watermelon     100\n",
       "grapes         100\n",
       "mango          100\n",
       "banana         100\n",
       "pomegranate    100\n",
       "lentil         100\n",
       "blackgram      100\n",
       "mungbean       100\n",
       "mothbeans      100\n",
       "pigeonpeas     100\n",
       "kidneybeans    100\n",
       "chickpea       100\n",
       "coffee         100\n",
       "Name: label, dtype: int64"
      ]
     },
     "execution_count": 58,
     "metadata": {},
     "output_type": "execute_result"
    }
   ],
   "source": [
    "#Lets check the crop present inthe Dataset\n",
    "data['label'].value_counts()"
   ]
  },
  {
   "cell_type": "markdown",
   "id": "195b4f5e",
   "metadata": {},
   "source": [
    "# check the average requirement of factor for crop"
   ]
  },
  {
   "cell_type": "code",
   "execution_count": 8,
   "id": "5cf9bd3f",
   "metadata": {},
   "outputs": [
    {
     "name": "stdout",
     "output_type": "stream",
     "text": [
      "Average Ratio of Nitrogen in the soil : 50.55\n",
      "Average Ratio of Phosphorous in the soil : 53.36\n",
      "Average Ratio of Potassium in the soil : 48.15\n",
      "Average Temprature in Celsius: 25.62\n",
      "Average Relative Humidity in % : 71.48\n",
      "Average PH Value of the soil : 6.47\n",
      "Average Rainfall in mm : 103.46\n"
     ]
    }
   ],
   "source": [
    "#Lets check the average requirement of factor for crop\n",
    "print(\"Average Ratio of Nitrogen in the soil : {0:.2f}\".format(data['N'].mean()))\n",
    "print(\"Average Ratio of Phosphorous in the soil : {0:.2f}\".format(data['P'].mean()))\n",
    "print(\"Average Ratio of Potassium in the soil : {0:.2f}\".format(data['K'].mean()))\n",
    "print(\"Average Temprature in Celsius: {0:.2f}\".format(data['temperature'].mean()))\n",
    "print(\"Average Relative Humidity in % : {0:.2f}\".format(data['humidity'].mean()))\n",
    "print(\"Average PH Value of the soil : {0:.2f}\".format(data['ph'].mean()))\n",
    "print(\"Average Rainfall in mm : {0:.2f}\".format(data['rainfall'].mean()))"
   ]
  },
  {
   "cell_type": "markdown",
   "id": "fc22a683",
   "metadata": {},
   "source": [
    "#  check the summary statistics for each of the crops"
   ]
  },
  {
   "cell_type": "code",
   "execution_count": 59,
   "id": "6e2b86d0",
   "metadata": {},
   "outputs": [
    {
     "data": {
      "application/vnd.jupyter.widget-view+json": {
       "model_id": "495be1b1f3724a9881e3eee167aa0254",
       "version_major": 2,
       "version_minor": 0
      },
      "text/plain": [
       "interactive(children=(Dropdown(description='crops', options=('rice', 'maize', 'jute', 'cotton', 'coconut', 'pa…"
      ]
     },
     "metadata": {},
     "output_type": "display_data"
    }
   ],
   "source": [
    "#Lets check the summary statistics for each of the crops\n",
    "@interact\n",
    "def summary(crops = list(data['label'].value_counts().index)):\n",
    "    x =data[data['label']==crops]\n",
    "    print(\"-------------------------------------------------\")\n",
    "    print(\"Statistics for Nitrogen\")\n",
    "    print(\"Minimum Nitrogen required :\",x['N'].min())\n",
    "    print(\"Average Nitrogen required : \",x['N'].mean())\n",
    "    print(\"Maximum Nitrogen required :\",x['N'].max())\n",
    "    print(\"--------------------------------------------------\")\n",
    "    print(\"Statistics for Phosphorous\")\n",
    "    print(\"Minimum Phosphorous required :\",x['P'].min())\n",
    "    print(\"Average Phosphorous required : \",x['P'].mean())\n",
    "    print(\"Maximum Phosphorous required :\",x['P'].max())\n",
    "    print(\"--------------------------------------------------\")\n",
    "    print(\"Statistics for potassium\")\n",
    "    print(\"Minimum potassium required :{0:.2f}\".format(x['K'].min()))\n",
    "    print(\"Average potassium required : {0:.2f}\".format(x['K'].mean()))\n",
    "    print(\"Maximum potassium required :{0:.2f}\".format(x['K'].max())) \n",
    "    print(\"--------------------------------------------------\")\n",
    "    print(\"Statistics for Rainfall\")\n",
    "    print(\"Minimum Rainfall required :{0:.2f}\".format(x['rainfall'].min()))\n",
    "    print(\"Average Rainfall required :{0:.2f} \".format(x['rainfall'].mean()))\n",
    "    print(\"Maximum Rainfall required :{0:.2f}\".format(x['rainfall'].max()))\n",
    "    print(\"--------------------------------------------------\")\n",
    "    print(\"Statistics for humidity\")\n",
    "    print(\"Minimum humidity required :{0:.2f}\".format(x['humidity'].min()))\n",
    "    print(\"Average humidity required :{0:.2f} \".format(x['humidity'].mean()))\n",
    "    print(\"Maximum humidity required :{0:.2f}\".format(x['humidity'].max()))\n",
    "    print(\"--------------------------------------------------\")\n",
    "    print(\"Statistics for PH\")\n",
    "    print(\"Minimum PH required :{0:.2f}\".format(x['ph'].min()))\n",
    "    print(\"Average PH required : {0:.2f}\".format(x['ph'].mean()))\n",
    "    print(\"Maximum PH required :{0:.2f}\".format(x['ph'].max()))\n",
    "    print(\"--------------------------------------------------\")\n",
    "    print(\"Statistics for Temperature\")\n",
    "    print(\"Minimum Temperature required : {0:.2f}\".format(x['temperature'].min()))\n",
    "    print(\"Average Temperature required : {0:.2f}\".format(x['temperature'].mean()))\n",
    "    print(\"Maximum Temperature required :{0:.2f}\".format(x['temperature'].max()))"
   ]
  },
  {
   "cell_type": "code",
   "execution_count": 10,
   "id": "622f625e",
   "metadata": {},
   "outputs": [
    {
     "data": {
      "application/vnd.jupyter.widget-view+json": {
       "model_id": "8fb9232a1d3d440dbc458d2509bcfc90",
       "version_major": 2,
       "version_minor": 0
      },
      "text/plain": [
       "interactive(children=(Dropdown(description='conditions', options=('N', 'P', 'K', 'temperature', 'ph', 'humidit…"
      ]
     },
     "metadata": {},
     "output_type": "display_data"
    }
   ],
   "source": [
    "##Lets compare the average Requirement for each crops with average conditions\n",
    "@interact\n",
    "def compare(conditions = ['N','P','K','temperature','ph','humidity','rainfall']):\n",
    "    print(\"Average value for\",conditions,\"is : {0:.2f}\".format(data[conditions].mean()))\n",
    "    print(\"----------------------------------------------\")\n",
    "    print(\"Rice: {0:.2f}\".format(data[data['label'] == 'rice'][conditions].mean()))\n",
    "    print(\"Black grams : {0:.2f}\".format(data[data['label'] == 'blackgram'][conditions].mean()))\n",
    "    print(\"Banana : {0:.2f}\".format(data[data['label'] == 'banana'][conditions].mean()))\n",
    "    print(\"Jute: {0:.2f}\".format(data[data['label'] == 'jute'][conditions].mean()))\n",
    "    print(\"Coconut: {0:.2f}\".format(data[data['label'] == 'coconut'][conditions].mean()))\n",
    "    print(\"Apple: {0:.2f}\".format(data[data['label'] == 'apple'][conditions].mean()))\n",
    "    print(\"Papaya: {0:.2f}\".format(data[data['label'] == 'papaya'][conditions].mean()))\n",
    "    print(\"Muskmelon: {0:.2f}\".format(data[data['label'] == 'muskmelon'][conditions].mean()))\n",
    "    print(\"Grapes: {0:.2f}\".format(data[data['label'] == 'grapes'][conditions].mean())) \n",
    "    print(\"Watermelon: {0:.2f}\".format(data[data['label'] == 'watermelon'][conditions].mean())) \n",
    "    print(\"Kidney Beans: {0:.2f}\".format(data[data['label'] == 'kidneybeans'][conditions].mean()))\n",
    "    print(\"Mung Beans: {0:.2f}\".format(data[data['label'] == 'mungbean'][conditions].mean()))\n",
    "    print(\"Oranges: {0:.2f}\".format(data[data['label'] == 'orange'][conditions].mean()))\n",
    "    print(\"Chick Peas: {0:.2f}\".format(data[data['label'] == 'chickpea'][conditions].mean())) \n",
    "    print(\"Lentils: {0:.2f}\".format(data[data['label'] == 'lentil'][conditions].mean()))\n",
    "    print(\"Cotton: {0:.2f}\".format(data[data['label'] == 'cotton'][conditions].mean()))\n",
    "    print(\"Maize: {0:.2f}\".format(data[data['label'] == 'maize'][conditions].mean()))\n",
    "    print(\"Moth Beans: {0:.2f}\".format(data[data['label'] == 'mothbeans'][conditions].mean()))\n",
    "    print(\"Pigeon peas: {0:.2f}\".format(data[data['label'] == 'pigeonpeas'][conditions].mean()))\n",
    "    print(\"Mango: {0:.2f}\".format(data[data['label'] == 'mango'][conditions].mean()))\n",
    "    print(\"Pomegrante: {0:.2f}\".format(data[data['label'] == 'pomegrante'][conditions].mean()))\n",
    "    print(\"Coffee: {0:.2f}\".format(data[data['label'] == 'coffee'][conditions].mean())) \n",
    "    "
   ]
  },
  {
   "cell_type": "code",
   "execution_count": 11,
   "id": "dbbc65cc",
   "metadata": {},
   "outputs": [
    {
     "data": {
      "application/vnd.jupyter.widget-view+json": {
       "model_id": "873efedd4cc14b5bbc5e271fba697b85",
       "version_major": 2,
       "version_minor": 0
      },
      "text/plain": [
       "interactive(children=(Dropdown(description='conditions', options=('N', 'P', 'K', 'temperature', 'ph', 'humidit…"
      ]
     },
     "metadata": {},
     "output_type": "display_data"
    }
   ],
   "source": [
    "#lets make this functionn more Intuitive\n",
    "@interact \n",
    "def compare(conditions =['N','P','K','temperature','ph','humidity','rainfall']):\n",
    "    print(\"Crops which require greater than average {0:.2f}\".format(data[conditions].mean()),'\\n')\n",
    "    print(data[data[conditions]>data[conditions].mean()]['label'].unique())\n",
    "    print('-----------------------------------------------------')\n",
    "    print(\"Crops which require less than average {0:.2f}\".format(data[conditions].mean()),'\\n')\n",
    "    print(data[data[conditions]<=data[conditions].mean()]['label'].unique())"
   ]
  },
  {
   "cell_type": "markdown",
   "id": "02978783",
   "metadata": {},
   "source": [
    "# Plotting Graph for Distribution of Agricultural Condition"
   ]
  },
  {
   "cell_type": "code",
   "execution_count": 12,
   "id": "ede9845e",
   "metadata": {},
   "outputs": [
    {
     "name": "stderr",
     "output_type": "stream",
     "text": [
      "C:\\Users\\hp\\anaconda3\\lib\\site-packages\\seaborn\\distributions.py:2619: FutureWarning: `distplot` is a deprecated function and will be removed in a future version. Please adapt your code to use either `displot` (a figure-level function with similar flexibility) or `histplot` (an axes-level function for histograms).\n",
      "  warnings.warn(msg, FutureWarning)\n",
      "C:\\Users\\hp\\anaconda3\\lib\\site-packages\\seaborn\\distributions.py:2619: FutureWarning: `distplot` is a deprecated function and will be removed in a future version. Please adapt your code to use either `displot` (a figure-level function with similar flexibility) or `histplot` (an axes-level function for histograms).\n",
      "  warnings.warn(msg, FutureWarning)\n",
      "C:\\Users\\hp\\anaconda3\\lib\\site-packages\\seaborn\\distributions.py:2619: FutureWarning: `distplot` is a deprecated function and will be removed in a future version. Please adapt your code to use either `displot` (a figure-level function with similar flexibility) or `histplot` (an axes-level function for histograms).\n",
      "  warnings.warn(msg, FutureWarning)\n",
      "C:\\Users\\hp\\anaconda3\\lib\\site-packages\\seaborn\\distributions.py:2619: FutureWarning: `distplot` is a deprecated function and will be removed in a future version. Please adapt your code to use either `displot` (a figure-level function with similar flexibility) or `histplot` (an axes-level function for histograms).\n",
      "  warnings.warn(msg, FutureWarning)\n",
      "C:\\Users\\hp\\anaconda3\\lib\\site-packages\\seaborn\\distributions.py:2619: FutureWarning: `distplot` is a deprecated function and will be removed in a future version. Please adapt your code to use either `displot` (a figure-level function with similar flexibility) or `histplot` (an axes-level function for histograms).\n",
      "  warnings.warn(msg, FutureWarning)\n",
      "C:\\Users\\hp\\anaconda3\\lib\\site-packages\\seaborn\\distributions.py:2619: FutureWarning: `distplot` is a deprecated function and will be removed in a future version. Please adapt your code to use either `displot` (a figure-level function with similar flexibility) or `histplot` (an axes-level function for histograms).\n",
      "  warnings.warn(msg, FutureWarning)\n",
      "C:\\Users\\hp\\anaconda3\\lib\\site-packages\\seaborn\\distributions.py:2619: FutureWarning: `distplot` is a deprecated function and will be removed in a future version. Please adapt your code to use either `displot` (a figure-level function with similar flexibility) or `histplot` (an axes-level function for histograms).\n",
      "  warnings.warn(msg, FutureWarning)\n"
     ]
    },
    {
     "data": {
      "image/png": "[encoded data removed]",
      "text/plain": [
       "<Figure size 432x288 with 7 Axes>"
      ]
     },
     "metadata": {
      "needs_background": "light"
     },
     "output_type": "display_data"
    }
   ],
   "source": [
    "plt.subplot(2, 4, 1)\n",
    "sns.distplot(data['K'],color='darkblue')\n",
    "plt.xlabel('Ratio of Potassium',fontsize=12)\n",
    "plt.grid()\n",
    "\n",
    "plt.subplot(2, 4, 2)\n",
    "sns.distplot(data['P'],color='red')\n",
    "plt.xlabel('Ratio of Phosphorous',fontsize=12)\n",
    "plt.grid()\n",
    "\n",
    "plt.subplot(2, 4, 3)\n",
    "sns.distplot(data['N'],color='brown')\n",
    "plt.xlabel('Ratio of Nitrogen',fontsize=12)\n",
    "plt.grid()\n",
    "\n",
    "plt.subplot(2, 4, 4)\n",
    "sns.distplot(data['temperature'],color='black')\n",
    "plt.xlabel('Temperature  ',fontsize=12)\n",
    "plt.grid()\n",
    "\n",
    "plt.subplot(2, 4, 5)\n",
    "sns.distplot(data['rainfall'],color='grey')\n",
    "plt.xlabel('Rain',fontsize=12)\n",
    "plt.grid()\n",
    "\n",
    "plt.subplot(2, 4, 6)\n",
    "sns.distplot(data['humidity'],color='lightgreen')\n",
    "plt.xlabel('Humidity',fontsize=12)\n",
    "plt.grid()\n",
    "\n",
    "plt.subplot(2, 4, 7)\n",
    "sns.distplot(data['ph'],color='darkgreen')\n",
    "plt.xlabel('PH Level',fontsize=12)\n",
    "plt.grid()\n",
    "\n",
    "plt.suptitle(\"Distribution for Agricultural Conditions\",fontsize=20)\n",
    "plt.show()"
   ]
  },
  {
   "cell_type": "code",
   "execution_count": 13,
   "id": "fef7f60c",
   "metadata": {},
   "outputs": [
    {
     "name": "stdout",
     "output_type": "stream",
     "text": [
      "Some Interesting Patterns\n",
      "----------------------------------------\n",
      "Crops which requires very High Ratio of Nitrogen Content in Soil: ['cotton']\n",
      "Crops which requires very High Ratio of Phosphorous Content in Soil: ['grapes' 'apple']\n",
      "Crops which requires very High Ratio of Potassium Content in Soil: ['grapes' 'apple']\n",
      "Crops which requires very High Rainfall in Soil: ['rice' 'papaya' 'coconut']\n",
      "Crops which requires very High Temperature in Soil: ['grapes' 'papaya']\n",
      "Crops which requires very Low Temperature Content in Soil: ['grapes']\n",
      "Crops which requires very Low Humidity in Soil: ['chickpea' 'kidneybeans']\n",
      "Crops which requires very Low PH in Soil: ['rice' 'maize' 'chickpea' 'kidneybeans' 'pigeonpeas' 'mothbeans'\n",
      " 'mungbean' 'blackgram' 'lentil' 'pomegranate' 'banana' 'mango' 'grapes'\n",
      " 'watermelon' 'muskmelon' 'apple' 'orange' 'papaya' 'coconut' 'cotton'\n",
      " 'jute' 'coffee']\n",
      "Crops which requires very High PH in Soil: ['mothbeans']\n"
     ]
    }
   ],
   "source": [
    "#Lets find out some Interesting facts\n",
    "\n",
    "print(\"Some Interesting Patterns\")\n",
    "print(\"----------------------------------------\")\n",
    "print(\"Crops which requires very High Ratio of Nitrogen Content in Soil:\",data[data['N']>120]['label'].unique())\n",
    "print(\"Crops which requires very High Ratio of Phosphorous Content in Soil:\",data[data['P']>100]['label'].unique())\n",
    "print(\"Crops which requires very High Ratio of Potassium Content in Soil:\",data[data['K']>200]['label'].unique())\n",
    "print(\"Crops which requires very High Rainfall in Soil:\",data[data['rainfall']>200]['label'].unique())\n",
    "print(\"Crops which requires very High Temperature in Soil:\",data[data['temperature']>40]['label'].unique())\n",
    "print(\"Crops which requires very Low Temperature Content in Soil:\",data[data['temperature']<10]['label'].unique())\n",
    "print(\"Crops which requires very Low Humidity in Soil:\",data[data['humidity']<20]['label'].unique())\n",
    "print(\"Crops which requires very Low PH in Soil:\",data[data['ph']>4]['label'].unique())\n",
    "print(\"Crops which requires very High PH in Soil:\",data[data['ph']>9]['label'].unique())"
   ]
  },
  {
   "cell_type": "code",
   "execution_count": 14,
   "id": "08a8910f",
   "metadata": {},
   "outputs": [
    {
     "name": "stdout",
     "output_type": "stream",
     "text": [
      "Summer Crops are:\n",
      "['pigeonpeas' 'mothbeans' 'blackgram' 'mango' 'grapes' 'orange' 'papaya']\n",
      "---------------------------------------------------------------\n",
      "Winter Crops are:\n",
      "['maize' 'pigeonpeas' 'lentil' 'pomegranate' 'grapes' 'orange']\n",
      "---------------------------------------------------------------\n",
      "Rainy Crops are:\n",
      "['rice' 'papaya' 'coconut']\n"
     ]
    }
   ],
   "source": [
    "###Lets understand which crop will suitable for Summer season ,winter season and Rainy season\n",
    "print(\"Summer Crops are:\")\n",
    "print(data[(data['temperature'] >30) & (data['humidity'] >50)]['label'].unique())\n",
    "print('---------------------------------------------------------------')\n",
    "print(\"Winter Crops are:\")\n",
    "print(data[(data['temperature'] <20) & (data['humidity'] >30)]['label'].unique())\n",
    "print('---------------------------------------------------------------')\n",
    "print(\"Rainy Crops are:\")\n",
    "print(data[(data['rainfall'] >200) & (data['humidity'] >30)]['label'].unique())"
   ]
  },
  {
   "cell_type": "code",
   "execution_count": 15,
   "id": "e6791cff",
   "metadata": {},
   "outputs": [
    {
     "name": "stdout",
     "output_type": "stream",
     "text": [
      "(2200, 8)\n",
      "(2200, 7)\n"
     ]
    }
   ],
   "source": [
    "##Lets import KMeans to understand how many clusters we need to classify all crops\n",
    "from sklearn.cluster import KMeans\n",
    "\n",
    "# Before removing Labels from colums then check the shape\n",
    "print(data.shape)\n",
    "\n",
    "#removing the Labels column\n",
    "x = data.drop(['label'], axis =1)\n",
    "\n",
    "#selecting all the values of the data\n",
    "x = x.values\n",
    "\n",
    "#checking the shape\n",
    "print(x.shape)"
   ]
  },
  {
   "cell_type": "markdown",
   "id": "94d51a40",
   "metadata": {},
   "source": [
    "# Lets determine the Optimum Number of Clusters within Dataset"
   ]
  },
  {
   "cell_type": "code",
   "execution_count": 16,
   "id": "69347994",
   "metadata": {},
   "outputs": [
    {
     "data": {
      "image/png": "[encoded data removed]",
      "text/plain": [
       "<Figure size 720x360 with 1 Axes>"
      ]
     },
     "metadata": {
      "needs_background": "light"
     },
     "output_type": "display_data"
    }
   ],
   "source": [
    "#Lets determine the Optimum Number of Clusters within Dataset\n",
    "\n",
    "plt.rcParams['figure.figsize']=(10,5)\n",
    "\n",
    "wcss =[]\n",
    "for i in range(1,11):\n",
    "    km = KMeans(n_clusters = i, init = 'k-means++', max_iter = 300, n_init = 10, random_state =0)\n",
    "                        #ORR\n",
    "   # km = KMeans(n_clusters = i)    \n",
    "    km.fit(x)\n",
    "    wcss.append(km.inertia_)\n",
    "\n",
    "#Lets plot the results\n",
    "plt.plot(range(1,11),wcss)\n",
    "plt.title('The Elbow Method',fontsize =20)\n",
    "plt.xlabel('No. of Clusters')\n",
    "plt.ylabel('wcss')\n",
    "plt.show()\n",
    "    \n"
   ]
  },
  {
   "cell_type": "markdown",
   "id": "674a2c24",
   "metadata": {},
   "source": [
    "# Lets implement the K means algorithm to perform Clustering analysis"
   ]
  },
  {
   "cell_type": "code",
   "execution_count": 18,
   "id": "eca0e9f6",
   "metadata": {},
   "outputs": [
    {
     "name": "stdout",
     "output_type": "stream",
     "text": [
      "Lets check the Results After applying the K Means Clustering Analysis \n",
      "\n",
      "Crops in First Cluster: ['maize' 'chickpea' 'kidneybeans' 'pigeonpeas' 'mothbeans' 'mungbean'\n",
      " 'blackgram' 'lentil' 'pomegranate' 'mango' 'orange' 'papaya' 'coconut']\n",
      "-----------------------------------------------------------------------\n",
      "Crops in Second Cluster: ['maize' 'banana' 'watermelon' 'muskmelon' 'papaya' 'cotton' 'coffee']\n",
      "-----------------------------------------------------------------------\n",
      "Crops in Third Cluster: ['grapes' 'apple']\n",
      "-----------------------------------------------------------------------\n",
      "Crops in Forth Cluster: ['rice' 'pigeonpeas' 'papaya' 'coconut' 'jute' 'coffee']\n",
      "-----------------------------------------------------------------------\n"
     ]
    }
   ],
   "source": [
    "#Lets implement the K means algorithm to perform Clustering analysis\n",
    "km = KMeans(n_clusters =4,init = 'k-means++',max_iter = 300,n_init =10,random_state =0)\n",
    "y_means= km.fit_predict(x)\n",
    "\n",
    "#lets find out the Results\n",
    "a = data['label']\n",
    "y_means = pd.DataFrame(y_means)\n",
    "z = pd.concat([y_means,a],axis =1)\n",
    "z = z.rename(columns = {0:'cluster'})\n",
    "\n",
    "#lets check clusters of each Crops\n",
    "print(\"Lets check the Results After applying the K Means Clustering Analysis \\n\")\n",
    "print(\"Crops in First Cluster:\",z[z['cluster']==0]['label'].unique())\n",
    "print('-----------------------------------------------------------------------')\n",
    "print(\"Crops in Second Cluster:\",z[z['cluster']==1]['label'].unique())\n",
    "print('-----------------------------------------------------------------------')\n",
    "print(\"Crops in Third Cluster:\",z[z['cluster']==2]['label'].unique())\n",
    "print('-----------------------------------------------------------------------')\n",
    "print(\"Crops in Forth Cluster:\",z[z['cluster']==3]['label'].unique())\n",
    "print('-----------------------------------------------------------------------')"
   ]
  },
  {
   "cell_type": "markdown",
   "id": "37573786",
   "metadata": {},
   "source": [
    "## Lets split the Dataset for Predictive Modelling"
   ]
  },
  {
   "cell_type": "code",
   "execution_count": 19,
   "id": "a87fa10d",
   "metadata": {},
   "outputs": [
    {
     "name": "stdout",
     "output_type": "stream",
     "text": [
      "Shape of x:  (2200, 7)\n",
      "Shape of Y:  (2200,)\n"
     ]
    }
   ],
   "source": [
    "y =data['label']\n",
    "x =data.drop(['label'],axis =1)\n",
    "print(\"Shape of x: \",x.shape)\n",
    "print(\"Shape of Y: \", y.shape)"
   ]
  },
  {
   "cell_type": "markdown",
   "id": "f1631d03",
   "metadata": {},
   "source": [
    "# Lets create Training and Testing sets for Validation of Results"
   ]
  },
  {
   "cell_type": "code",
   "execution_count": 24,
   "id": "2d765a45",
   "metadata": {},
   "outputs": [
    {
     "name": "stdout",
     "output_type": "stream",
     "text": [
      "The shape of x train:  (1760, 7)\n",
      "The shape of x test:  (440, 7)\n",
      "The shape of y train:  (1760,)\n",
      "The shape of y test:  (440,)\n"
     ]
    }
   ],
   "source": [
    "# Lets create Training and Testing sets for Validation of Results\n",
    "\n",
    "from sklearn.model_selection import train_test_split\n",
    "\n",
    "x_train, x_test, y_train, y_test = train_test_split(x,y,test_size = 0.2,random_state = 0)\n",
    "\n",
    "print(\"The shape of x train: \",x_train.shape)\n",
    "print(\"The shape of x test: \",x_test.shape)\n",
    "print(\"The shape of y train: \",y_train.shape)\n",
    "print(\"The shape of y test: \",y_test.shape)"
   ]
  },
  {
   "cell_type": "markdown",
   "id": "948fd11e",
   "metadata": {},
   "source": [
    "# Lets create a Predictive Model"
   ]
  },
  {
   "cell_type": "code",
   "execution_count": 31,
   "id": "2ae65b86",
   "metadata": {},
   "outputs": [
    {
     "name": "stderr",
     "output_type": "stream",
     "text": [
      "C:\\Users\\hp\\anaconda3\\lib\\site-packages\\sklearn\\linear_model\\_logistic.py:814: ConvergenceWarning: lbfgs failed to converge (status=1):\n",
      "STOP: TOTAL NO. of ITERATIONS REACHED LIMIT.\n",
      "\n",
      "Increase the number of iterations (max_iter) or scale the data as shown in:\n",
      "    https://scikit-learn.org/stable/modules/preprocessing.html\n",
      "Please also refer to the documentation for alternative solver options:\n",
      "    https://scikit-learn.org/stable/modules/linear_model.html#logistic-regression\n",
      "  n_iter_i = _check_optimize_result(\n"
     ]
    }
   ],
   "source": [
    "#Lets create a Predictive Model¶\n",
    "\n",
    "from sklearn.linear_model import LogisticRegression\n",
    "\n",
    "model = LogisticRegression()\n",
    "model.fit(x_train, y_train)\n",
    "y_pred = model.predict(x_test)"
   ]
  },
  {
   "cell_type": "markdown",
   "id": "a97ea9be",
   "metadata": {},
   "source": [
    "# Lets Evaluate the Model performance"
   ]
  },
  {
   "cell_type": "code",
   "execution_count": 34,
   "id": "0716ccbc",
   "metadata": {},
   "outputs": [
    {
     "data": {
      "image/png": "[encoded data removed]",
      "text/plain": [
       "<Figure size 720x720 with 2 Axes>"
      ]
     },
     "metadata": {
      "needs_background": "light"
     },
     "output_type": "display_data"
    }
   ],
   "source": [
    "#To evaluate performance of Model we use the confusion matrix\n",
    "from sklearn.metrics import confusion_matrix\n",
    "\n",
    "#Lets print the confusion matrix first\n",
    "plt.rcParams['figure.figsize'] = (10,10)\n",
    "cm = confusion_matrix(y_test,y_pred)\n",
    "sns.heatmap(cm, annot = True , cmap = 'Wistia')\n",
    "plt.title('confusion Matrix for Logistic Regression',fontsize = 15)\n",
    "plt.show()"
   ]
  },
  {
   "cell_type": "markdown",
   "id": "1263e3fc",
   "metadata": {},
   "source": [
    "#                              Print Report of Classification"
   ]
  },
  {
   "cell_type": "code",
   "execution_count": 42,
   "id": "707149fb",
   "metadata": {},
   "outputs": [],
   "source": [
    "#lets print the classification report also\n",
    "#cr = classification_report(y_test, y_pred)\n",
    "#print(cr)"
   ]
  },
  {
   "cell_type": "code",
   "execution_count": 65,
   "id": "d0ff2f2a",
   "metadata": {},
   "outputs": [
    {
     "data": {
      "text/html": [
       "<div>\n",
       "<style scoped>\n",
       "    .dataframe tbody tr th:only-of-type {\n",
       "        vertical-align: middle;\n",
       "    }\n",
       "\n",
       "    .dataframe tbody tr th {\n",
       "        vertical-align: top;\n",
       "    }\n",
       "\n",
       "    .dataframe thead th {\n",
       "        text-align: right;\n",
       "    }\n",
       "</style>\n",
       "<table border=\"1\" class=\"dataframe\">\n",
       "  <thead>\n",
       "    <tr style=\"text-align: right;\">\n",
       "      <th></th>\n",
       "      <th>N</th>\n",
       "      <th>P</th>\n",
       "      <th>K</th>\n",
       "      <th>temperature</th>\n",
       "      <th>humidity</th>\n",
       "      <th>ph</th>\n",
       "      <th>rainfall</th>\n",
       "      <th>label</th>\n",
       "    </tr>\n",
       "  </thead>\n",
       "  <tbody>\n",
       "    <tr>\n",
       "      <th>0</th>\n",
       "      <td>90</td>\n",
       "      <td>42</td>\n",
       "      <td>43</td>\n",
       "      <td>20.879744</td>\n",
       "      <td>82.002744</td>\n",
       "      <td>6.502985</td>\n",
       "      <td>202.935536</td>\n",
       "      <td>rice</td>\n",
       "    </tr>\n",
       "    <tr>\n",
       "      <th>1</th>\n",
       "      <td>85</td>\n",
       "      <td>58</td>\n",
       "      <td>41</td>\n",
       "      <td>21.770462</td>\n",
       "      <td>80.319644</td>\n",
       "      <td>7.038096</td>\n",
       "      <td>226.655537</td>\n",
       "      <td>rice</td>\n",
       "    </tr>\n",
       "    <tr>\n",
       "      <th>2</th>\n",
       "      <td>60</td>\n",
       "      <td>55</td>\n",
       "      <td>44</td>\n",
       "      <td>23.004459</td>\n",
       "      <td>82.320763</td>\n",
       "      <td>7.840207</td>\n",
       "      <td>263.964248</td>\n",
       "      <td>rice</td>\n",
       "    </tr>\n",
       "    <tr>\n",
       "      <th>3</th>\n",
       "      <td>74</td>\n",
       "      <td>35</td>\n",
       "      <td>40</td>\n",
       "      <td>26.491096</td>\n",
       "      <td>80.158363</td>\n",
       "      <td>6.980401</td>\n",
       "      <td>242.864034</td>\n",
       "      <td>rice</td>\n",
       "    </tr>\n",
       "    <tr>\n",
       "      <th>4</th>\n",
       "      <td>78</td>\n",
       "      <td>42</td>\n",
       "      <td>42</td>\n",
       "      <td>20.130175</td>\n",
       "      <td>81.604873</td>\n",
       "      <td>7.628473</td>\n",
       "      <td>262.717340</td>\n",
       "      <td>rice</td>\n",
       "    </tr>\n",
       "  </tbody>\n",
       "</table>\n",
       "</div>"
      ],
      "text/plain": [
       "    N   P   K  temperature   humidity        ph    rainfall label\n",
       "0  90  42  43    20.879744  82.002744  6.502985  202.935536  rice\n",
       "1  85  58  41    21.770462  80.319644  7.038096  226.655537  rice\n",
       "2  60  55  44    23.004459  82.320763  7.840207  263.964248  rice\n",
       "3  74  35  40    26.491096  80.158363  6.980401  242.864034  rice\n",
       "4  78  42  42    20.130175  81.604873  7.628473  262.717340  rice"
      ]
     },
     "execution_count": 65,
     "metadata": {},
     "output_type": "execute_result"
    }
   ],
   "source": [
    "data.head()"
   ]
  },
  {
   "cell_type": "markdown",
   "id": "11de40d4",
   "metadata": {},
   "source": [
    "# USER WILL GIVE VALUES OF CONDITIONS AND MACHINE WILL SUGGEST CROP FOR THAT CONDITION"
   ]
  },
  {
   "cell_type": "code",
   "execution_count": 49,
   "id": "3de013ea",
   "metadata": {},
   "outputs": [
    {
     "name": "stdout",
     "output_type": "stream",
     "text": [
      "The suggested Crop for Given Climatic condition is : ['mango']\n"
     ]
    },
    {
     "name": "stderr",
     "output_type": "stream",
     "text": [
      "C:\\Users\\hp\\anaconda3\\lib\\site-packages\\sklearn\\base.py:450: UserWarning: X does not have valid feature names, but LogisticRegression was fitted with feature names\n",
      "  warnings.warn(\n"
     ]
    }
   ],
   "source": [
    "#prediction = model.predict((np.array([[90,50,42,20,82,7,200]])))\n",
    "prediction = model.predict((np.array([[50,15,62,82,54,7,15]])))\n",
    "print(\"The suggested Crop for Given Climatic condition is :\",prediction)"
   ]
  },
  {
   "cell_type": "markdown",
   "id": "a8d3deab",
   "metadata": {},
   "source": [
    "# Thanks for visiting my Project ..I hope it was beneficial for u \n",
    "# Project by - SADASHISH KUMAR BHOKTA"
   ]
  }
 ],
 "metadata": {
  "kernelspec": {
   "display_name": "Python 3 (ipykernel)",
   "language": "python",
   "name": "python3"
  },
  "language_info": {
   "codemirror_mode": {
    "name": "ipython",
    "version": 3
   },
   "file_extension": ".py",
   "mimetype": "text/x-python",
   "name": "python",
   "nbconvert_exporter": "python",
   "pygments_lexer": "ipython3",
   "version": "3.9.12"
  }
 },
 "nbformat": 4,
 "nbformat_minor": 5
}
